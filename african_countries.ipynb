{
 "cells": [
  {
   "cell_type": "markdown",
   "id": "3885c4be",
   "metadata": {},
   "source": [
    "# Import library"
   ]
  },
  {
   "cell_type": "code",
   "execution_count": 1,
   "id": "df76ccbb",
   "metadata": {},
   "outputs": [],
   "source": [
    "import pandas as pd"
   ]
  },
  {
   "cell_type": "markdown",
   "id": "7c1e51f0",
   "metadata": {},
   "source": [
    "# Get the url"
   ]
  },
  {
   "cell_type": "code",
   "execution_count": 2,
   "id": "bb3f4bfb",
   "metadata": {},
   "outputs": [],
   "source": [
    "url ='https://fr.wikipedia.org/wiki/Liste_des_%C3%89tats_du_monde_par_continent'\n",
    "tables =pd.read_html(url)"
   ]
  },
  {
   "cell_type": "markdown",
   "id": "7367e13e",
   "metadata": {},
   "source": [
    "# Overview"
   ]
  },
  {
   "cell_type": "code",
   "execution_count": 5,
   "id": "9715738c",
   "metadata": {},
   "outputs": [
    {
     "data": {
      "text/html": [
       "<div>\n",
       "<style scoped>\n",
       "    .dataframe tbody tr th:only-of-type {\n",
       "        vertical-align: middle;\n",
       "    }\n",
       "\n",
       "    .dataframe tbody tr th {\n",
       "        vertical-align: top;\n",
       "    }\n",
       "\n",
       "    .dataframe thead th {\n",
       "        text-align: right;\n",
       "    }\n",
       "</style>\n",
       "<table border=\"1\" class=\"dataframe\">\n",
       "  <thead>\n",
       "    <tr style=\"text-align: right;\">\n",
       "      <th></th>\n",
       "      <th>0</th>\n",
       "      <th>1</th>\n",
       "      <th>2</th>\n",
       "      <th>3</th>\n",
       "    </tr>\n",
       "  </thead>\n",
       "  <tbody>\n",
       "    <tr>\n",
       "      <th>0</th>\n",
       "      <td>35 États reconnus par la communauté internatio...</td>\n",
       "      <td>35 États reconnus par la communauté internatio...</td>\n",
       "      <td>35 États reconnus par la communauté internatio...</td>\n",
       "      <td>35 États reconnus par la communauté internatio...</td>\n",
       "    </tr>\n",
       "    <tr>\n",
       "      <th>1</th>\n",
       "      <td>Antigua-et-Barbuda  Argentine  Bahamas  Barbad...</td>\n",
       "      <td>Colombie  Costa Rica  Cuba  République dominic...</td>\n",
       "      <td>Guyana  Haïti  Honduras  Jamaïque  Mexique  Ni...</td>\n",
       "      <td>Saint-Christophe-et-Niévès  Sainte-Lucie  Sain...</td>\n",
       "    </tr>\n",
       "    <tr>\n",
       "      <th>2</th>\n",
       "      <td>1 État associé aux États-Unis.</td>\n",
       "      <td>1 État associé aux États-Unis.</td>\n",
       "      <td>1 État associé aux États-Unis.</td>\n",
       "      <td>1 État associé aux États-Unis.</td>\n",
       "    </tr>\n",
       "    <tr>\n",
       "      <th>3</th>\n",
       "      <td>Porto Rico</td>\n",
       "      <td>NaN</td>\n",
       "      <td>NaN</td>\n",
       "      <td>NaN</td>\n",
       "    </tr>\n",
       "    <tr>\n",
       "      <th>4</th>\n",
       "      <td>6 dépendances de pays américains.</td>\n",
       "      <td>6 dépendances de pays américains.</td>\n",
       "      <td>6 dépendances de pays américains.</td>\n",
       "      <td>6 dépendances de pays américains.</td>\n",
       "    </tr>\n",
       "    <tr>\n",
       "      <th>5</th>\n",
       "      <td>Dépendances fédérales (Venezuela)  Îles Vierge...</td>\n",
       "      <td>Îles Galápagos  Archipel de San Andrés, Provid...</td>\n",
       "      <td>Île Guadalupe</td>\n",
       "      <td>Île de la Navasse</td>\n",
       "    </tr>\n",
       "    <tr>\n",
       "      <th>6</th>\n",
       "      <td>22 dépendances européennes.</td>\n",
       "      <td>22 dépendances européennes.</td>\n",
       "      <td>22 dépendances européennes.</td>\n",
       "      <td>22 dépendances européennes.</td>\n",
       "    </tr>\n",
       "    <tr>\n",
       "      <th>7</th>\n",
       "      <td>Anguilla  Aruba  Bermudes  Bonaire  Îles Caïma...</td>\n",
       "      <td>Curaçao  Géorgie du Sud-et-les îles Sandwich d...</td>\n",
       "      <td>Martinique  Montserrat  Saba  Saint-Barthélemy...</td>\n",
       "      <td>Saint-Martin (Pays-Bas)  Saint-Pierre-et-Mique...</td>\n",
       "    </tr>\n",
       "  </tbody>\n",
       "</table>\n",
       "</div>"
      ],
      "text/plain": [
       "                                                   0  \\\n",
       "0  35 États reconnus par la communauté internatio...   \n",
       "1  Antigua-et-Barbuda  Argentine  Bahamas  Barbad...   \n",
       "2                     1 État associé aux États-Unis.   \n",
       "3                                         Porto Rico   \n",
       "4                  6 dépendances de pays américains.   \n",
       "5  Dépendances fédérales (Venezuela)  Îles Vierge...   \n",
       "6                        22 dépendances européennes.   \n",
       "7  Anguilla  Aruba  Bermudes  Bonaire  Îles Caïma...   \n",
       "\n",
       "                                                   1  \\\n",
       "0  35 États reconnus par la communauté internatio...   \n",
       "1  Colombie  Costa Rica  Cuba  République dominic...   \n",
       "2                     1 État associé aux États-Unis.   \n",
       "3                                                NaN   \n",
       "4                  6 dépendances de pays américains.   \n",
       "5  Îles Galápagos  Archipel de San Andrés, Provid...   \n",
       "6                        22 dépendances européennes.   \n",
       "7  Curaçao  Géorgie du Sud-et-les îles Sandwich d...   \n",
       "\n",
       "                                                   2  \\\n",
       "0  35 États reconnus par la communauté internatio...   \n",
       "1  Guyana  Haïti  Honduras  Jamaïque  Mexique  Ni...   \n",
       "2                     1 État associé aux États-Unis.   \n",
       "3                                                NaN   \n",
       "4                  6 dépendances de pays américains.   \n",
       "5                                      Île Guadalupe   \n",
       "6                        22 dépendances européennes.   \n",
       "7  Martinique  Montserrat  Saba  Saint-Barthélemy...   \n",
       "\n",
       "                                                   3  \n",
       "0  35 États reconnus par la communauté internatio...  \n",
       "1  Saint-Christophe-et-Niévès  Sainte-Lucie  Sain...  \n",
       "2                     1 État associé aux États-Unis.  \n",
       "3                                                NaN  \n",
       "4                  6 dépendances de pays américains.  \n",
       "5                                  Île de la Navasse  \n",
       "6                        22 dépendances européennes.  \n",
       "7  Saint-Martin (Pays-Bas)  Saint-Pierre-et-Mique...  "
      ]
     },
     "execution_count": 5,
     "metadata": {},
     "output_type": "execute_result"
    }
   ],
   "source": [
    "tables[1]"
   ]
  },
  {
   "cell_type": "markdown",
   "id": "49353ff0",
   "metadata": {},
   "source": [
    "# Put the table into a df"
   ]
  },
  {
   "cell_type": "code",
   "execution_count": 11,
   "id": "566bf3d5",
   "metadata": {},
   "outputs": [],
   "source": [
    "df= tables[0]\n"
   ]
  },
  {
   "cell_type": "code",
   "execution_count": 12,
   "id": "96536625",
   "metadata": {},
   "outputs": [
    {
     "data": {
      "text/html": [
       "<div>\n",
       "<style scoped>\n",
       "    .dataframe tbody tr th:only-of-type {\n",
       "        vertical-align: middle;\n",
       "    }\n",
       "\n",
       "    .dataframe tbody tr th {\n",
       "        vertical-align: top;\n",
       "    }\n",
       "\n",
       "    .dataframe thead th {\n",
       "        text-align: right;\n",
       "    }\n",
       "</style>\n",
       "<table border=\"1\" class=\"dataframe\">\n",
       "  <thead>\n",
       "    <tr style=\"text-align: right;\">\n",
       "      <th></th>\n",
       "      <th>0</th>\n",
       "      <th>1</th>\n",
       "      <th>2</th>\n",
       "      <th>3</th>\n",
       "    </tr>\n",
       "  </thead>\n",
       "  <tbody>\n",
       "    <tr>\n",
       "      <th>0</th>\n",
       "      <td>54 États reconnus par la communauté internatio...</td>\n",
       "      <td>54 États reconnus par la communauté internatio...</td>\n",
       "      <td>54 États reconnus par la communauté internatio...</td>\n",
       "      <td>54 États reconnus par la communauté internatio...</td>\n",
       "    </tr>\n",
       "    <tr>\n",
       "      <th>1</th>\n",
       "      <td>Afrique du Sud  Algérie  Angola  Bénin  Botswa...</td>\n",
       "      <td>Djibouti  Égypte  Érythrée  Éthiopie  Eswatini...</td>\n",
       "      <td>Libye  Madagascar  Malawi  Mali  Maroc  Mauric...</td>\n",
       "      <td>Sénégal  Seychelles  Sierra Leone  Somalie  So...</td>\n",
       "    </tr>\n",
       "    <tr>\n",
       "      <th>2</th>\n",
       "      <td>4 États non reconnus par la communauté interna...</td>\n",
       "      <td>4 États non reconnus par la communauté interna...</td>\n",
       "      <td>4 États non reconnus par la communauté interna...</td>\n",
       "      <td>4 États non reconnus par la communauté interna...</td>\n",
       "    </tr>\n",
       "    <tr>\n",
       "      <th>3</th>\n",
       "      <td>Azawad (Mali)</td>\n",
       "      <td>Pount (Somalie)</td>\n",
       "      <td>République arabe sahraouie démocratique (Maroc)</td>\n",
       "      <td>Somaliland (Somalie)</td>\n",
       "    </tr>\n",
       "    <tr>\n",
       "      <th>4</th>\n",
       "      <td>11 territoires considérés comme africains par ...</td>\n",
       "      <td>11 territoires considérés comme africains par ...</td>\n",
       "      <td>11 territoires considérés comme africains par ...</td>\n",
       "      <td>11 territoires considérés comme africains par ...</td>\n",
       "    </tr>\n",
       "  </tbody>\n",
       "</table>\n",
       "</div>"
      ],
      "text/plain": [
       "                                                   0  \\\n",
       "0  54 États reconnus par la communauté internatio...   \n",
       "1  Afrique du Sud  Algérie  Angola  Bénin  Botswa...   \n",
       "2  4 États non reconnus par la communauté interna...   \n",
       "3                                      Azawad (Mali)   \n",
       "4  11 territoires considérés comme africains par ...   \n",
       "\n",
       "                                                   1  \\\n",
       "0  54 États reconnus par la communauté internatio...   \n",
       "1  Djibouti  Égypte  Érythrée  Éthiopie  Eswatini...   \n",
       "2  4 États non reconnus par la communauté interna...   \n",
       "3                                    Pount (Somalie)   \n",
       "4  11 territoires considérés comme africains par ...   \n",
       "\n",
       "                                                   2  \\\n",
       "0  54 États reconnus par la communauté internatio...   \n",
       "1  Libye  Madagascar  Malawi  Mali  Maroc  Mauric...   \n",
       "2  4 États non reconnus par la communauté interna...   \n",
       "3    République arabe sahraouie démocratique (Maroc)   \n",
       "4  11 territoires considérés comme africains par ...   \n",
       "\n",
       "                                                   3  \n",
       "0  54 États reconnus par la communauté internatio...  \n",
       "1  Sénégal  Seychelles  Sierra Leone  Somalie  So...  \n",
       "2  4 États non reconnus par la communauté interna...  \n",
       "3                               Somaliland (Somalie)  \n",
       "4  11 territoires considérés comme africains par ...  "
      ]
     },
     "execution_count": 12,
     "metadata": {},
     "output_type": "execute_result"
    }
   ],
   "source": [
    "df.head()\n"
   ]
  }
 ],
 "metadata": {
  "kernelspec": {
   "display_name": "Python 3 (ipykernel)",
   "language": "python",
   "name": "python3"
  },
  "language_info": {
   "codemirror_mode": {
    "name": "ipython",
    "version": 3
   },
   "file_extension": ".py",
   "mimetype": "text/x-python",
   "name": "python",
   "nbconvert_exporter": "python",
   "pygments_lexer": "ipython3",
   "version": "3.9.13"
  }
 },
 "nbformat": 4,
 "nbformat_minor": 5
}
