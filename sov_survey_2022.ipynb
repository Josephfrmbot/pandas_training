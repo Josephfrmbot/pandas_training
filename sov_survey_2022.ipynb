{
 "cells": [
  {
   "cell_type": "markdown",
   "id": "5016c7db",
   "metadata": {},
   "source": [
    "# Import pandas"
   ]
  },
  {
   "cell_type": "code",
   "execution_count": 22,
   "id": "beb46a01",
   "metadata": {},
   "outputs": [],
   "source": [
    "import pandas as pd"
   ]
  },
  {
   "cell_type": "markdown",
   "id": "4ec8e23a",
   "metadata": {},
   "source": [
    "# Read csv"
   ]
  },
  {
   "cell_type": "code",
   "execution_count": 23,
   "id": "d2723b8e",
   "metadata": {},
   "outputs": [],
   "source": [
    "df= pd.read_csv('survey_results_public.csv')"
   ]
  },
  {
   "cell_type": "markdown",
   "id": "0fa80ec3",
   "metadata": {},
   "source": [
    "# Looking at the structure of the dataframe"
   ]
  },
  {
   "cell_type": "code",
   "execution_count": 24,
   "id": "f40da77e",
   "metadata": {},
   "outputs": [
    {
     "data": {
      "text/plain": [
       "(83439, 48)"
      ]
     },
     "execution_count": 24,
     "metadata": {},
     "output_type": "execute_result"
    }
   ],
   "source": [
    "df.shape\n"
   ]
  },
  {
   "cell_type": "markdown",
   "id": "9ec5bce5",
   "metadata": {},
   "source": [
    "# The overview of the dataframe"
   ]
  },
  {
   "cell_type": "code",
   "execution_count": 25,
   "id": "955bf2e2",
   "metadata": {},
   "outputs": [
    {
     "data": {
      "text/html": [
       "<div>\n",
       "<style scoped>\n",
       "    .dataframe tbody tr th:only-of-type {\n",
       "        vertical-align: middle;\n",
       "    }\n",
       "\n",
       "    .dataframe tbody tr th {\n",
       "        vertical-align: top;\n",
       "    }\n",
       "\n",
       "    .dataframe thead th {\n",
       "        text-align: right;\n",
       "    }\n",
       "</style>\n",
       "<table border=\"1\" class=\"dataframe\">\n",
       "  <thead>\n",
       "    <tr style=\"text-align: right;\">\n",
       "      <th></th>\n",
       "      <th>ResponseId</th>\n",
       "      <th>MainBranch</th>\n",
       "      <th>Employment</th>\n",
       "      <th>Country</th>\n",
       "      <th>US_State</th>\n",
       "      <th>UK_Country</th>\n",
       "      <th>EdLevel</th>\n",
       "      <th>Age1stCode</th>\n",
       "      <th>LearnCode</th>\n",
       "      <th>YearsCode</th>\n",
       "      <th>...</th>\n",
       "      <th>Age</th>\n",
       "      <th>Gender</th>\n",
       "      <th>Trans</th>\n",
       "      <th>Sexuality</th>\n",
       "      <th>Ethnicity</th>\n",
       "      <th>Accessibility</th>\n",
       "      <th>MentalHealth</th>\n",
       "      <th>SurveyLength</th>\n",
       "      <th>SurveyEase</th>\n",
       "      <th>ConvertedCompYearly</th>\n",
       "    </tr>\n",
       "  </thead>\n",
       "  <tbody>\n",
       "    <tr>\n",
       "      <th>0</th>\n",
       "      <td>1</td>\n",
       "      <td>I am a developer by profession</td>\n",
       "      <td>Independent contractor, freelancer, or self-em...</td>\n",
       "      <td>Slovakia</td>\n",
       "      <td>NaN</td>\n",
       "      <td>NaN</td>\n",
       "      <td>Secondary school (e.g. American high school, G...</td>\n",
       "      <td>18 - 24 years</td>\n",
       "      <td>Coding Bootcamp;Other online resources (ex: vi...</td>\n",
       "      <td>NaN</td>\n",
       "      <td>...</td>\n",
       "      <td>25-34 years old</td>\n",
       "      <td>Man</td>\n",
       "      <td>No</td>\n",
       "      <td>Straight / Heterosexual</td>\n",
       "      <td>White or of European descent</td>\n",
       "      <td>None of the above</td>\n",
       "      <td>None of the above</td>\n",
       "      <td>Appropriate in length</td>\n",
       "      <td>Easy</td>\n",
       "      <td>62268.0</td>\n",
       "    </tr>\n",
       "    <tr>\n",
       "      <th>1</th>\n",
       "      <td>2</td>\n",
       "      <td>I am a student who is learning to code</td>\n",
       "      <td>Student, full-time</td>\n",
       "      <td>Netherlands</td>\n",
       "      <td>NaN</td>\n",
       "      <td>NaN</td>\n",
       "      <td>Bachelor’s degree (B.A., B.S., B.Eng., etc.)</td>\n",
       "      <td>11 - 17 years</td>\n",
       "      <td>Other online resources (ex: videos, blogs, etc...</td>\n",
       "      <td>7</td>\n",
       "      <td>...</td>\n",
       "      <td>18-24 years old</td>\n",
       "      <td>Man</td>\n",
       "      <td>No</td>\n",
       "      <td>Straight / Heterosexual</td>\n",
       "      <td>White or of European descent</td>\n",
       "      <td>None of the above</td>\n",
       "      <td>None of the above</td>\n",
       "      <td>Appropriate in length</td>\n",
       "      <td>Easy</td>\n",
       "      <td>NaN</td>\n",
       "    </tr>\n",
       "    <tr>\n",
       "      <th>2</th>\n",
       "      <td>3</td>\n",
       "      <td>I am not primarily a developer, but I write co...</td>\n",
       "      <td>Student, full-time</td>\n",
       "      <td>Russian Federation</td>\n",
       "      <td>NaN</td>\n",
       "      <td>NaN</td>\n",
       "      <td>Bachelor’s degree (B.A., B.S., B.Eng., etc.)</td>\n",
       "      <td>11 - 17 years</td>\n",
       "      <td>Other online resources (ex: videos, blogs, etc...</td>\n",
       "      <td>NaN</td>\n",
       "      <td>...</td>\n",
       "      <td>18-24 years old</td>\n",
       "      <td>Man</td>\n",
       "      <td>No</td>\n",
       "      <td>Prefer not to say</td>\n",
       "      <td>Prefer not to say</td>\n",
       "      <td>None of the above</td>\n",
       "      <td>None of the above</td>\n",
       "      <td>Appropriate in length</td>\n",
       "      <td>Easy</td>\n",
       "      <td>NaN</td>\n",
       "    </tr>\n",
       "    <tr>\n",
       "      <th>3</th>\n",
       "      <td>4</td>\n",
       "      <td>I am a developer by profession</td>\n",
       "      <td>Employed full-time</td>\n",
       "      <td>Austria</td>\n",
       "      <td>NaN</td>\n",
       "      <td>NaN</td>\n",
       "      <td>Master’s degree (M.A., M.S., M.Eng., MBA, etc.)</td>\n",
       "      <td>11 - 17 years</td>\n",
       "      <td>NaN</td>\n",
       "      <td>NaN</td>\n",
       "      <td>...</td>\n",
       "      <td>35-44 years old</td>\n",
       "      <td>Man</td>\n",
       "      <td>No</td>\n",
       "      <td>Straight / Heterosexual</td>\n",
       "      <td>White or of European descent</td>\n",
       "      <td>I am deaf / hard of hearing</td>\n",
       "      <td>NaN</td>\n",
       "      <td>Appropriate in length</td>\n",
       "      <td>Neither easy nor difficult</td>\n",
       "      <td>NaN</td>\n",
       "    </tr>\n",
       "    <tr>\n",
       "      <th>4</th>\n",
       "      <td>5</td>\n",
       "      <td>I am a developer by profession</td>\n",
       "      <td>Independent contractor, freelancer, or self-em...</td>\n",
       "      <td>United Kingdom of Great Britain and Northern I...</td>\n",
       "      <td>NaN</td>\n",
       "      <td>England</td>\n",
       "      <td>Master’s degree (M.A., M.S., M.Eng., MBA, etc.)</td>\n",
       "      <td>5 - 10 years</td>\n",
       "      <td>Friend or family member</td>\n",
       "      <td>17</td>\n",
       "      <td>...</td>\n",
       "      <td>25-34 years old</td>\n",
       "      <td>Man</td>\n",
       "      <td>No</td>\n",
       "      <td>NaN</td>\n",
       "      <td>White or of European descent</td>\n",
       "      <td>None of the above</td>\n",
       "      <td>NaN</td>\n",
       "      <td>Appropriate in length</td>\n",
       "      <td>Easy</td>\n",
       "      <td>NaN</td>\n",
       "    </tr>\n",
       "  </tbody>\n",
       "</table>\n",
       "<p>5 rows × 48 columns</p>\n",
       "</div>"
      ],
      "text/plain": [
       "   ResponseId                                         MainBranch  \\\n",
       "0           1                     I am a developer by profession   \n",
       "1           2             I am a student who is learning to code   \n",
       "2           3  I am not primarily a developer, but I write co...   \n",
       "3           4                     I am a developer by profession   \n",
       "4           5                     I am a developer by profession   \n",
       "\n",
       "                                          Employment  \\\n",
       "0  Independent contractor, freelancer, or self-em...   \n",
       "1                                 Student, full-time   \n",
       "2                                 Student, full-time   \n",
       "3                                 Employed full-time   \n",
       "4  Independent contractor, freelancer, or self-em...   \n",
       "\n",
       "                                             Country US_State UK_Country  \\\n",
       "0                                           Slovakia      NaN        NaN   \n",
       "1                                        Netherlands      NaN        NaN   \n",
       "2                                 Russian Federation      NaN        NaN   \n",
       "3                                            Austria      NaN        NaN   \n",
       "4  United Kingdom of Great Britain and Northern I...      NaN    England   \n",
       "\n",
       "                                             EdLevel     Age1stCode  \\\n",
       "0  Secondary school (e.g. American high school, G...  18 - 24 years   \n",
       "1       Bachelor’s degree (B.A., B.S., B.Eng., etc.)  11 - 17 years   \n",
       "2       Bachelor’s degree (B.A., B.S., B.Eng., etc.)  11 - 17 years   \n",
       "3    Master’s degree (M.A., M.S., M.Eng., MBA, etc.)  11 - 17 years   \n",
       "4    Master’s degree (M.A., M.S., M.Eng., MBA, etc.)   5 - 10 years   \n",
       "\n",
       "                                           LearnCode YearsCode  ...  \\\n",
       "0  Coding Bootcamp;Other online resources (ex: vi...       NaN  ...   \n",
       "1  Other online resources (ex: videos, blogs, etc...         7  ...   \n",
       "2  Other online resources (ex: videos, blogs, etc...       NaN  ...   \n",
       "3                                                NaN       NaN  ...   \n",
       "4                            Friend or family member        17  ...   \n",
       "\n",
       "               Age Gender Trans                Sexuality  \\\n",
       "0  25-34 years old    Man    No  Straight / Heterosexual   \n",
       "1  18-24 years old    Man    No  Straight / Heterosexual   \n",
       "2  18-24 years old    Man    No        Prefer not to say   \n",
       "3  35-44 years old    Man    No  Straight / Heterosexual   \n",
       "4  25-34 years old    Man    No                      NaN   \n",
       "\n",
       "                      Ethnicity                Accessibility  \\\n",
       "0  White or of European descent            None of the above   \n",
       "1  White or of European descent            None of the above   \n",
       "2             Prefer not to say            None of the above   \n",
       "3  White or of European descent  I am deaf / hard of hearing   \n",
       "4  White or of European descent            None of the above   \n",
       "\n",
       "        MentalHealth           SurveyLength                  SurveyEase  \\\n",
       "0  None of the above  Appropriate in length                        Easy   \n",
       "1  None of the above  Appropriate in length                        Easy   \n",
       "2  None of the above  Appropriate in length                        Easy   \n",
       "3                NaN  Appropriate in length  Neither easy nor difficult   \n",
       "4                NaN  Appropriate in length                        Easy   \n",
       "\n",
       "  ConvertedCompYearly  \n",
       "0             62268.0  \n",
       "1                 NaN  \n",
       "2                 NaN  \n",
       "3                 NaN  \n",
       "4                 NaN  \n",
       "\n",
       "[5 rows x 48 columns]"
      ]
     },
     "execution_count": 25,
     "metadata": {},
     "output_type": "execute_result"
    }
   ],
   "source": [
    "df.head(5)"
   ]
  },
  {
   "cell_type": "markdown",
   "id": "1f13d66d",
   "metadata": {},
   "source": [
    "# Checking the name of the columns"
   ]
  },
  {
   "cell_type": "code",
   "execution_count": 26,
   "id": "b3e19b1a",
   "metadata": {},
   "outputs": [
    {
     "data": {
      "text/plain": [
       "Index(['ResponseId', 'MainBranch', 'Employment', 'Country', 'US_State',\n",
       "       'UK_Country', 'EdLevel', 'Age1stCode', 'LearnCode', 'YearsCode',\n",
       "       'YearsCodePro', 'DevType', 'OrgSize', 'Currency', 'CompTotal',\n",
       "       'CompFreq', 'LanguageHaveWorkedWith', 'LanguageWantToWorkWith',\n",
       "       'DatabaseHaveWorkedWith', 'DatabaseWantToWorkWith',\n",
       "       'PlatformHaveWorkedWith', 'PlatformWantToWorkWith',\n",
       "       'WebframeHaveWorkedWith', 'WebframeWantToWorkWith',\n",
       "       'MiscTechHaveWorkedWith', 'MiscTechWantToWorkWith',\n",
       "       'ToolsTechHaveWorkedWith', 'ToolsTechWantToWorkWith',\n",
       "       'NEWCollabToolsHaveWorkedWith', 'NEWCollabToolsWantToWorkWith', 'OpSys',\n",
       "       'NEWStuck', 'NEWSOSites', 'SOVisitFreq', 'SOAccount', 'SOPartFreq',\n",
       "       'SOComm', 'NEWOtherComms', 'Age', 'Gender', 'Trans', 'Sexuality',\n",
       "       'Ethnicity', 'Accessibility', 'MentalHealth', 'SurveyLength',\n",
       "       'SurveyEase', 'ConvertedCompYearly'],\n",
       "      dtype='object')"
      ]
     },
     "execution_count": 26,
     "metadata": {},
     "output_type": "execute_result"
    }
   ],
   "source": [
    "df.columns\n"
   ]
  },
  {
   "cell_type": "markdown",
   "id": "86735e76",
   "metadata": {},
   "source": [
    "# Reframing the dataframe"
   ]
  },
  {
   "cell_type": "code",
   "execution_count": 27,
   "id": "21a4ee07",
   "metadata": {},
   "outputs": [],
   "source": [
    "df = df[['LanguageHaveWorkedWith','WebframeHaveWorkedWith','DatabaseHaveWorkedWith']]"
   ]
  },
  {
   "cell_type": "code",
   "execution_count": 28,
   "id": "ae41f033",
   "metadata": {},
   "outputs": [
    {
     "data": {
      "text/plain": [
       "<bound method NDFrame.describe of                               LanguageHaveWorkedWith  \\\n",
       "0      C++;HTML/CSS;JavaScript;Objective-C;PHP;Swift   \n",
       "1                                  JavaScript;Python   \n",
       "2                           Assembly;C;Python;R;Rust   \n",
       "3                              JavaScript;TypeScript   \n",
       "4                     Bash/Shell;HTML/CSS;Python;SQL   \n",
       "...                                              ...   \n",
       "83434                             Clojure;Kotlin;SQL   \n",
       "83435                                            NaN   \n",
       "83436                             Groovy;Java;Python   \n",
       "83437           Bash/Shell;JavaScript;Node.js;Python   \n",
       "83438         Delphi;Elixir;HTML/CSS;Java;JavaScript   \n",
       "\n",
       "                             WebframeHaveWorkedWith  \\\n",
       "0                                   Laravel;Symfony   \n",
       "1                              Angular;Flask;Vue.js   \n",
       "2                                             Flask   \n",
       "3                                    Angular;jQuery   \n",
       "4                                             Flask   \n",
       "...                                             ...   \n",
       "83434                                           NaN   \n",
       "83435  Django;jQuery;Laravel;React.js;Ruby on Rails   \n",
       "83436                                 FastAPI;Flask   \n",
       "83437                 Django;Express;Flask;React.js   \n",
       "83438                                Angular;Spring   \n",
       "\n",
       "                                 DatabaseHaveWorkedWith  \n",
       "0                                     PostgreSQL;SQLite  \n",
       "1                                            PostgreSQL  \n",
       "2                                                SQLite  \n",
       "3                                                   NaN  \n",
       "4                        Elasticsearch;PostgreSQL;Redis  \n",
       "...                                                 ...  \n",
       "83434                                     Oracle;SQLite  \n",
       "83435    Firebase;MariaDB;MySQL;PostgreSQL;Redis;SQLite  \n",
       "83436   DynamoDB;Elasticsearch;MongoDB;PostgreSQL;Redis  \n",
       "83437  Cassandra;Elasticsearch;MongoDB;PostgreSQL;Redis  \n",
       "83438                                 Oracle;PostgreSQL  \n",
       "\n",
       "[83439 rows x 3 columns]>"
      ]
     },
     "execution_count": 28,
     "metadata": {},
     "output_type": "execute_result"
    }
   ],
   "source": [
    "df.describe"
   ]
  },
  {
   "cell_type": "code",
   "execution_count": 29,
   "id": "f6c4d0a0",
   "metadata": {},
   "outputs": [
    {
     "data": {
      "text/html": [
       "<div>\n",
       "<style scoped>\n",
       "    .dataframe tbody tr th:only-of-type {\n",
       "        vertical-align: middle;\n",
       "    }\n",
       "\n",
       "    .dataframe tbody tr th {\n",
       "        vertical-align: top;\n",
       "    }\n",
       "\n",
       "    .dataframe thead th {\n",
       "        text-align: right;\n",
       "    }\n",
       "</style>\n",
       "<table border=\"1\" class=\"dataframe\">\n",
       "  <thead>\n",
       "    <tr style=\"text-align: right;\">\n",
       "      <th></th>\n",
       "      <th>LanguageHaveWorkedWith</th>\n",
       "      <th>WebframeHaveWorkedWith</th>\n",
       "      <th>DatabaseHaveWorkedWith</th>\n",
       "    </tr>\n",
       "  </thead>\n",
       "  <tbody>\n",
       "    <tr>\n",
       "      <th>0</th>\n",
       "      <td>C++;HTML/CSS;JavaScript;Objective-C;PHP;Swift</td>\n",
       "      <td>Laravel;Symfony</td>\n",
       "      <td>PostgreSQL;SQLite</td>\n",
       "    </tr>\n",
       "    <tr>\n",
       "      <th>1</th>\n",
       "      <td>JavaScript;Python</td>\n",
       "      <td>Angular;Flask;Vue.js</td>\n",
       "      <td>PostgreSQL</td>\n",
       "    </tr>\n",
       "    <tr>\n",
       "      <th>2</th>\n",
       "      <td>Assembly;C;Python;R;Rust</td>\n",
       "      <td>Flask</td>\n",
       "      <td>SQLite</td>\n",
       "    </tr>\n",
       "    <tr>\n",
       "      <th>3</th>\n",
       "      <td>JavaScript;TypeScript</td>\n",
       "      <td>Angular;jQuery</td>\n",
       "      <td>NaN</td>\n",
       "    </tr>\n",
       "    <tr>\n",
       "      <th>4</th>\n",
       "      <td>Bash/Shell;HTML/CSS;Python;SQL</td>\n",
       "      <td>Flask</td>\n",
       "      <td>Elasticsearch;PostgreSQL;Redis</td>\n",
       "    </tr>\n",
       "  </tbody>\n",
       "</table>\n",
       "</div>"
      ],
      "text/plain": [
       "                          LanguageHaveWorkedWith WebframeHaveWorkedWith  \\\n",
       "0  C++;HTML/CSS;JavaScript;Objective-C;PHP;Swift        Laravel;Symfony   \n",
       "1                              JavaScript;Python   Angular;Flask;Vue.js   \n",
       "2                       Assembly;C;Python;R;Rust                  Flask   \n",
       "3                          JavaScript;TypeScript         Angular;jQuery   \n",
       "4                 Bash/Shell;HTML/CSS;Python;SQL                  Flask   \n",
       "\n",
       "           DatabaseHaveWorkedWith  \n",
       "0               PostgreSQL;SQLite  \n",
       "1                      PostgreSQL  \n",
       "2                          SQLite  \n",
       "3                             NaN  \n",
       "4  Elasticsearch;PostgreSQL;Redis  "
      ]
     },
     "execution_count": 29,
     "metadata": {},
     "output_type": "execute_result"
    }
   ],
   "source": [
    "df.head()"
   ]
  },
  {
   "cell_type": "markdown",
   "id": "df524c99",
   "metadata": {},
   "source": [
    "# Looking at the languages developers have worked with"
   ]
  },
  {
   "cell_type": "code",
   "execution_count": 31,
   "id": "89a943e6",
   "metadata": {},
   "outputs": [
    {
     "data": {
      "text/plain": [
       "Python                                                                                                 1337\n",
       "HTML/CSS;JavaScript;Node.js;TypeScript                                                                  811\n",
       "Java                                                                                                    715\n",
       "HTML/CSS;JavaScript;PHP;SQL                                                                             674\n",
       "C#                                                                                                      597\n",
       "                                                                                                       ... \n",
       "Assembly;Bash/Shell;C;C#;C++;Delphi;HTML/CSS;Java;JavaScript;Kotlin;Node.js;Perl;PHP;Python;SQL;VBA       1\n",
       "C#;C++;Dart;Go;JavaScript;Node.js;SQL;TypeScript                                                          1\n",
       "Bash/Shell;C;C++;Groovy;HTML/CSS;Java;JavaScript;Node.js;SQL;TypeScript                                   1\n",
       "Bash/Shell;C;HTML/CSS;JavaScript;Node.js;PHP;Python;SQL;Swift                                             1\n",
       "Delphi;Elixir;HTML/CSS;Java;JavaScript                                                                    1\n",
       "Name: LanguageHaveWorkedWith, Length: 28690, dtype: int64"
      ]
     },
     "execution_count": 31,
     "metadata": {},
     "output_type": "execute_result"
    }
   ],
   "source": [
    "df['LanguageHaveWorkedWith'].value_counts()"
   ]
  },
  {
   "cell_type": "markdown",
   "id": "b858c8da",
   "metadata": {},
   "source": [
    "   # Looking at the framework "
   ]
  },
  {
   "cell_type": "code",
   "execution_count": 34,
   "id": "8f27a454",
   "metadata": {},
   "outputs": [
    {
     "data": {
      "text/plain": [
       "React.js                                                                                                                                            3383\n",
       "jQuery                                                                                                                                              2358\n",
       "Express;React.js                                                                                                                                    1951\n",
       "Flask                                                                                                                                               1815\n",
       "Spring                                                                                                                                              1711\n",
       "                                                                                                                                                    ... \n",
       "Angular;Express;Gatsby;Laravel;React.js;Vue.js                                                                                                         1\n",
       "Angular;Angular.js;ASP.NET;ASP.NET Core ;Express;jQuery;Laravel;React.js;Spring;Vue.js                                                                 1\n",
       "Angular;Django;Express;Gatsby;Laravel;React.js;Vue.js                                                                                                  1\n",
       "Angular;Angular.js;ASP.NET;ASP.NET Core ;Django;Drupal;Express;FastAPI;Gatsby;jQuery;Laravel;React.js;Ruby on Rails;Spring;Svelte;Symfony;Vue.js       1\n",
       "Django;Flask;Laravel;React.js;Symfony;Vue.js                                                                                                           1\n",
       "Name: WebframeHaveWorkedWith, Length: 5402, dtype: int64"
      ]
     },
     "execution_count": 34,
     "metadata": {},
     "output_type": "execute_result"
    }
   ],
   "source": [
    "df['WebframeHaveWorkedWith'].value_counts()"
   ]
  },
  {
   "cell_type": "markdown",
   "id": "3a59de74",
   "metadata": {},
   "source": [
    "# See how many people have mentionned React\n"
   ]
  },
  {
   "cell_type": "code",
   "execution_count": 38,
   "id": "8caea1e7",
   "metadata": {},
   "outputs": [],
   "source": [
    "flask =df['WebframeHaveWorkedWith'].str.contains('Flask')"
   ]
  },
  {
   "cell_type": "code",
   "execution_count": 39,
   "id": "b388d491",
   "metadata": {},
   "outputs": [
    {
     "data": {
      "text/plain": [
       "False    0.835124\n",
       "True     0.164876\n",
       "Name: WebframeHaveWorkedWith, dtype: float64"
      ]
     },
     "execution_count": 39,
     "metadata": {},
     "output_type": "execute_result"
    }
   ],
   "source": [
    "flask.value_counts(normalize= True )"
   ]
  },
  {
   "cell_type": "code",
   "execution_count": 40,
   "id": "c9f648ba",
   "metadata": {},
   "outputs": [],
   "source": [
    "languages = df['LanguageHaveWorkedWith'].str.split(';', expand = True)"
   ]
  },
  {
   "cell_type": "markdown",
   "id": "116b634c",
   "metadata": {},
   "source": [
    "# Separate the technology "
   ]
  },
  {
   "cell_type": "code",
   "execution_count": 43,
   "id": "ebce376b",
   "metadata": {},
   "outputs": [
    {
     "data": {
      "text/html": [
       "<div>\n",
       "<style scoped>\n",
       "    .dataframe tbody tr th:only-of-type {\n",
       "        vertical-align: middle;\n",
       "    }\n",
       "\n",
       "    .dataframe tbody tr th {\n",
       "        vertical-align: top;\n",
       "    }\n",
       "\n",
       "    .dataframe thead th {\n",
       "        text-align: right;\n",
       "    }\n",
       "</style>\n",
       "<table border=\"1\" class=\"dataframe\">\n",
       "  <thead>\n",
       "    <tr style=\"text-align: right;\">\n",
       "      <th></th>\n",
       "      <th>0</th>\n",
       "      <th>1</th>\n",
       "      <th>2</th>\n",
       "      <th>3</th>\n",
       "      <th>4</th>\n",
       "      <th>5</th>\n",
       "      <th>6</th>\n",
       "      <th>7</th>\n",
       "      <th>8</th>\n",
       "      <th>9</th>\n",
       "      <th>...</th>\n",
       "      <th>28</th>\n",
       "      <th>29</th>\n",
       "      <th>30</th>\n",
       "      <th>31</th>\n",
       "      <th>32</th>\n",
       "      <th>33</th>\n",
       "      <th>34</th>\n",
       "      <th>35</th>\n",
       "      <th>36</th>\n",
       "      <th>37</th>\n",
       "    </tr>\n",
       "  </thead>\n",
       "  <tbody>\n",
       "    <tr>\n",
       "      <th>0</th>\n",
       "      <td>C++</td>\n",
       "      <td>HTML/CSS</td>\n",
       "      <td>JavaScript</td>\n",
       "      <td>Objective-C</td>\n",
       "      <td>PHP</td>\n",
       "      <td>Swift</td>\n",
       "      <td>None</td>\n",
       "      <td>None</td>\n",
       "      <td>None</td>\n",
       "      <td>None</td>\n",
       "      <td>...</td>\n",
       "      <td>None</td>\n",
       "      <td>None</td>\n",
       "      <td>None</td>\n",
       "      <td>None</td>\n",
       "      <td>None</td>\n",
       "      <td>None</td>\n",
       "      <td>None</td>\n",
       "      <td>None</td>\n",
       "      <td>None</td>\n",
       "      <td>None</td>\n",
       "    </tr>\n",
       "    <tr>\n",
       "      <th>1</th>\n",
       "      <td>JavaScript</td>\n",
       "      <td>Python</td>\n",
       "      <td>None</td>\n",
       "      <td>None</td>\n",
       "      <td>None</td>\n",
       "      <td>None</td>\n",
       "      <td>None</td>\n",
       "      <td>None</td>\n",
       "      <td>None</td>\n",
       "      <td>None</td>\n",
       "      <td>...</td>\n",
       "      <td>None</td>\n",
       "      <td>None</td>\n",
       "      <td>None</td>\n",
       "      <td>None</td>\n",
       "      <td>None</td>\n",
       "      <td>None</td>\n",
       "      <td>None</td>\n",
       "      <td>None</td>\n",
       "      <td>None</td>\n",
       "      <td>None</td>\n",
       "    </tr>\n",
       "    <tr>\n",
       "      <th>2</th>\n",
       "      <td>Assembly</td>\n",
       "      <td>C</td>\n",
       "      <td>Python</td>\n",
       "      <td>R</td>\n",
       "      <td>Rust</td>\n",
       "      <td>None</td>\n",
       "      <td>None</td>\n",
       "      <td>None</td>\n",
       "      <td>None</td>\n",
       "      <td>None</td>\n",
       "      <td>...</td>\n",
       "      <td>None</td>\n",
       "      <td>None</td>\n",
       "      <td>None</td>\n",
       "      <td>None</td>\n",
       "      <td>None</td>\n",
       "      <td>None</td>\n",
       "      <td>None</td>\n",
       "      <td>None</td>\n",
       "      <td>None</td>\n",
       "      <td>None</td>\n",
       "    </tr>\n",
       "    <tr>\n",
       "      <th>3</th>\n",
       "      <td>JavaScript</td>\n",
       "      <td>TypeScript</td>\n",
       "      <td>None</td>\n",
       "      <td>None</td>\n",
       "      <td>None</td>\n",
       "      <td>None</td>\n",
       "      <td>None</td>\n",
       "      <td>None</td>\n",
       "      <td>None</td>\n",
       "      <td>None</td>\n",
       "      <td>...</td>\n",
       "      <td>None</td>\n",
       "      <td>None</td>\n",
       "      <td>None</td>\n",
       "      <td>None</td>\n",
       "      <td>None</td>\n",
       "      <td>None</td>\n",
       "      <td>None</td>\n",
       "      <td>None</td>\n",
       "      <td>None</td>\n",
       "      <td>None</td>\n",
       "    </tr>\n",
       "    <tr>\n",
       "      <th>4</th>\n",
       "      <td>Bash/Shell</td>\n",
       "      <td>HTML/CSS</td>\n",
       "      <td>Python</td>\n",
       "      <td>SQL</td>\n",
       "      <td>None</td>\n",
       "      <td>None</td>\n",
       "      <td>None</td>\n",
       "      <td>None</td>\n",
       "      <td>None</td>\n",
       "      <td>None</td>\n",
       "      <td>...</td>\n",
       "      <td>None</td>\n",
       "      <td>None</td>\n",
       "      <td>None</td>\n",
       "      <td>None</td>\n",
       "      <td>None</td>\n",
       "      <td>None</td>\n",
       "      <td>None</td>\n",
       "      <td>None</td>\n",
       "      <td>None</td>\n",
       "      <td>None</td>\n",
       "    </tr>\n",
       "  </tbody>\n",
       "</table>\n",
       "<p>5 rows × 38 columns</p>\n",
       "</div>"
      ],
      "text/plain": [
       "           0           1           2            3     4      5     6     7   \\\n",
       "0         C++    HTML/CSS  JavaScript  Objective-C   PHP  Swift  None  None   \n",
       "1  JavaScript      Python        None         None  None   None  None  None   \n",
       "2    Assembly           C      Python            R  Rust   None  None  None   \n",
       "3  JavaScript  TypeScript        None         None  None   None  None  None   \n",
       "4  Bash/Shell    HTML/CSS      Python          SQL  None   None  None  None   \n",
       "\n",
       "     8     9   ...    28    29    30    31    32    33    34    35    36    37  \n",
       "0  None  None  ...  None  None  None  None  None  None  None  None  None  None  \n",
       "1  None  None  ...  None  None  None  None  None  None  None  None  None  None  \n",
       "2  None  None  ...  None  None  None  None  None  None  None  None  None  None  \n",
       "3  None  None  ...  None  None  None  None  None  None  None  None  None  None  \n",
       "4  None  None  ...  None  None  None  None  None  None  None  None  None  None  \n",
       "\n",
       "[5 rows x 38 columns]"
      ]
     },
     "execution_count": 43,
     "metadata": {},
     "output_type": "execute_result"
    }
   ],
   "source": [
    "languages.head(5)"
   ]
  },
  {
   "cell_type": "code",
   "execution_count": 44,
   "id": "e752aff5",
   "metadata": {},
   "outputs": [
    {
     "data": {
      "text/plain": [
       "0      0            C++\n",
       "       1       HTML/CSS\n",
       "       2     JavaScript\n",
       "       3    Objective-C\n",
       "       4            PHP\n",
       "               ...     \n",
       "83438  0         Delphi\n",
       "       1         Elixir\n",
       "       2       HTML/CSS\n",
       "       3           Java\n",
       "       4     JavaScript\n",
       "Length: 442560, dtype: object"
      ]
     },
     "execution_count": 44,
     "metadata": {},
     "output_type": "execute_result"
    }
   ],
   "source": [
    "languages.stack()"
   ]
  },
  {
   "cell_type": "code",
   "execution_count": 51,
   "id": "f2fed944",
   "metadata": {},
   "outputs": [],
   "source": [
    "f25 = languages.stack().value_counts().head(25)"
   ]
  },
  {
   "cell_type": "markdown",
   "id": "64dd4b10",
   "metadata": {},
   "source": [
    "# Plot the languages"
   ]
  },
  {
   "cell_type": "code",
   "execution_count": 52,
   "id": "5c370c57",
   "metadata": {},
   "outputs": [
    {
     "data": {
      "text/plain": [
       "<AxesSubplot:>"
      ]
     },
     "execution_count": 52,
     "metadata": {},
     "output_type": "execute_result"
    },
    {
     "data": {
      "image/png": "[encoded data removed]",
      "text/plain": [
       "<Figure size 1200x600 with 1 Axes>"
      ]
     },
     "metadata": {},
     "output_type": "display_data"
    }
   ],
   "source": [
    "f25.plot(kind = 'bar', figsize=(12, 6))"
   ]
  },
  {
   "cell_type": "code",
   "execution_count": null,
   "id": "b70a62da",
   "metadata": {},
   "outputs": [],
   "source": []
  }
 ],
 "metadata": {
  "kernelspec": {
   "display_name": "Python 3 (ipykernel)",
   "language": "python",
   "name": "python3"
  },
  "language_info": {
   "codemirror_mode": {
    "name": "ipython",
    "version": 3
   },
   "file_extension": ".py",
   "mimetype": "text/x-python",
   "name": "python",
   "nbconvert_exporter": "python",
   "pygments_lexer": "ipython3",
   "version": "3.9.13"
  }
 },
 "nbformat": 4,
 "nbformat_minor": 5
}
